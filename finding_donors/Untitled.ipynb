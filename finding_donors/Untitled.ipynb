{
 "cells": [
  {
   "cell_type": "code",
   "execution_count": 1,
   "metadata": {
    "collapsed": false
   },
   "outputs": [
    {
     "name": "stdout",
     "output_type": "stream",
     "text": [
      "(0, 8787)\n",
      "(1, 9789)\n",
      "(2, 9898)\n"
     ]
    }
   ],
   "source": [
    "for i, samples in enumerate([8787, 9789, 9898]):\n",
    "    print (i, samples)\n",
    "   "
   ]
  },
  {
   "cell_type": "code",
   "execution_count": 24,
   "metadata": {
    "collapsed": false
   },
   "outputs": [
    {
     "name": "stdout",
     "output_type": "stream",
     "text": [
      "{'a': 1, 'x': 7, 'm': 5, 'n': 9}\n",
      "{'x': 1}\n"
     ]
    },
    {
     "data": {
      "text/plain": [
       "{'a': 4, 'b': 3, 'c': {'a': 1, 'm': 5, 'n': 9, 'x': 7}, 'd': 4}"
      ]
     },
     "execution_count": 24,
     "metadata": {},
     "output_type": "execute_result"
    }
   ],
   "source": [
    "def merge(A,B):\n",
    "    C = {}\n",
    "    for i in A:\n",
    "        if i in B:\n",
    "            if isinstance(A[i], dict):\n",
    "                print A[i]\n",
    "                if isinstance(B[i], dict):\n",
    "                    print B[i]\n",
    "                    b = merge(A[i],B[i])\n",
    "                    C[i] = b\n",
    "                else:\n",
    "                    pass\n",
    "            else:\n",
    "                if A[i]>B[i]:\n",
    "                    C[i] = A[i]\n",
    "                else:\n",
    "                    C[i] = B[i]\n",
    "        else:\n",
    "                C[i] = A[i]\n",
    "    for j in B:\n",
    "        if j not in A:\n",
    "            C[j] = B[j]\n",
    "    \n",
    "    return C\n",
    "\n",
    "X = {'a':1, 'b':2, 'c':{'a':1, 'm':5, 'x':7, 'n':9}, 'd':4}\n",
    "Y = {'a':2, 'b':3, 'c':{'x':1},'a':4}\n",
    "merge(X, Y)"
   ]
  },
  {
   "cell_type": "code",
   "execution_count": 27,
   "metadata": {
    "collapsed": false
   },
   "outputs": [
    {
     "name": "stdout",
     "output_type": "stream",
     "text": [
      "7d8f3h6k4j7z8d3k8h9k3j4dsljfdkhluidshdkjfg\n"
     ]
    }
   ],
   "source": [
    "def str_cat(str1, str2):\n",
    "    i = 0\n",
    "    j = 0\n",
    "\n",
    "    if str1 == '' and str2 == '':\n",
    "        return\n",
    "\n",
    "    elif str1 == '':\n",
    "        return str2\n",
    "\n",
    "    elif str2 == '':\n",
    "        return str1\n",
    "\n",
    "    #x_len = len(str1)\n",
    "    #y_len = len(str2)\n",
    "    \n",
    "    else:\n",
    "        x = str1[0]\n",
    "        y = str2[0]\n",
    "\n",
    "        x_rest = str1[1:]\n",
    "        y_rest = str2[1:]\n",
    "\n",
    "\n",
    "    return str(x) + str(y) + str(str_cat(x_rest, y_rest))\n",
    "\n",
    "print str_cat('783647838934','dfhkjzdkhkjdsljfdkhluidshdkjfg')\n"
   ]
  },
  {
   "cell_type": "code",
   "execution_count": 31,
   "metadata": {
    "collapsed": false
   },
   "outputs": [
    {
     "data": {
      "text/plain": [
       "False"
      ]
     },
     "execution_count": 31,
     "metadata": {},
     "output_type": "execute_result"
    }
   ],
   "source": [
    "def anagram(x,y):\n",
    "    dict_1 = {}\n",
    "    dict_2 = {}\n",
    "    for i in range(len(x)):\n",
    "        if x[i] in dict_1:\n",
    "            dict_1[x[i]] += 1\n",
    "        else:\n",
    "            dict_1[x[i]] = 1\n",
    "            \n",
    "    for j in range(len(y)):\n",
    "        if y[j] in dict_2:\n",
    "            dict_2[y[j]] += 1\n",
    "        else:\n",
    "            dict_2[y[j]] = 1\n",
    "            \n",
    "    if dict_1 == dict_2:\n",
    "        return True\n",
    "    else:\n",
    "        return False\n",
    "    \n",
    "anagram('parthadekahasfgghjsdahksajdnbkdfsjdf','thaparkadejhgsdakjsagdkhkjdashlkjhsjhhhgdhghksgdhg')    "
   ]
  },
  {
   "cell_type": "code",
   "execution_count": 42,
   "metadata": {
    "collapsed": false
   },
   "outputs": [
    {
     "name": "stdout",
     "output_type": "stream",
     "text": [
      "1\n",
      "2\n"
     ]
    }
   ],
   "source": [
    "dict = {1:2, 2:3}\n",
    "for k in dict:\n",
    "    print k"
   ]
  },
  {
   "cell_type": "code",
   "execution_count": 54,
   "metadata": {
    "collapsed": false
   },
   "outputs": [
    {
     "name": "stdout",
     "output_type": "stream",
     "text": [
      "a5b5c11d9k5l5j32w1e17m3z3n18x2f1i3o1s1h1v1\n"
     ]
    }
   ],
   "source": [
    "# aaaccccdd ----- a3c4d2\n",
    "\n",
    "def func(X):\n",
    "    \n",
    "    list = []\n",
    "    dict = {}\n",
    "    \n",
    "    for i in range(len(X)):\n",
    "        if X[i] not in dict:\n",
    "            dict[X[i]] = str(X.count(X[i]))\n",
    "            kv = str(X[i]) + str(dict[X[i]])\n",
    "            list.append(kv)\n",
    "    #print dict\n",
    "    #print list\n",
    "                                              \n",
    "     \n",
    "    return ''.join(list)\n",
    "            \n",
    "            \n",
    "print func('aaaabbbccdkljweeeeeeeeeeeeeeeeemznxjknxznjzdjdlklkjdflncnkjdidjdiojjjjjjjjjjjjjjjjjjjjjjncncmbdjshijldbccnnnjnccnvmcnnnnnnca')        \n",
    "#print func('aaaabbbbbnnnnn')           \n",
    "        "
   ]
  },
  {
   "cell_type": "code",
   "execution_count": 3,
   "metadata": {
    "collapsed": false
   },
   "outputs": [
    {
     "name": "stdout",
     "output_type": "stream",
     "text": [
      "103\n"
     ]
    }
   ],
   "source": [
    "def largest_continous_sum(list): \n",
    "\n",
    " \n",
    "    if len(list) == 0:\n",
    "        return\n",
    "    \n",
    "    maxsum = list[0]\n",
    "    currentsum = list[0]\n",
    "    \n",
    "    if len(list) == 1:\n",
    "        return maxsum\n",
    "    \n",
    "    for num in list[1:]:\n",
    "        currentsum = max(currentsum + num, num)\n",
    "        maxsum = max(currentsum, maxsum)\n",
    "        \n",
    "    return maxsum\n",
    "    \n",
    "    \n",
    "    \n",
    "print largest_continous_sum([6, -4, -3, 3, 100])\n",
    "\n"
   ]
  },
  {
   "cell_type": "code",
   "execution_count": 6,
   "metadata": {
    "collapsed": false
   },
   "outputs": [
    {
     "name": "stdout",
     "output_type": "stream",
     "text": [
      "d==44\n"
     ]
    }
   ],
   "source": [
    "def maxcharcnt(X):\n",
    "    \n",
    "    max_cnt = 0\n",
    "    for i in X.lower():\n",
    "        j = X.count(i)\n",
    "        if j > max_cnt:\n",
    "            max_cnt = j\n",
    "            retstr = str(i)+'=='+str(max_cnt)\n",
    "    return retstr\n",
    "\n",
    "print maxcharcnt('ddddddddddddddddddddddddddddddddddddddddddddaaayyyyyyyyyyyyyyyyyyyyybbbbbbbbbbbbbbxxxxxxxxxxxx')"
   ]
  },
  {
   "cell_type": "code",
   "execution_count": 16,
   "metadata": {
    "collapsed": false
   },
   "outputs": [
    {
     "name": "stdout",
     "output_type": "stream",
     "text": [
      "10\n"
     ]
    }
   ],
   "source": [
    "import re \n",
    "def word_count(filename, character): \n",
    "\n",
    " \n",
    "    dict_new = {} \n",
    "\n",
    " \n",
    "    f = open(filename) \n",
    "    text = f.read()\n",
    "    \n",
    "    read_text_list = re.findall(r'(\\w+)', text)\n",
    "    \n",
    "    for i in read_text_list:\n",
    "        if i not in dict_new:\n",
    "            dict_new[i] = 1\n",
    "        else:\n",
    "            dict_new[i] += 1\n",
    "            \n",
    "    f.close()\n",
    "    \n",
    "    return dict_new[character]\n",
    "    \n",
    "\n",
    "print word_count('C:\\\\Users\\\\212452403\\\\Downloads\\\\Python27\\\\basic\\\\alice.txt' ,'children') \n",
    "\n",
    " \n",
    "\n",
    " \n",
    "\n"
   ]
  },
  {
   "cell_type": "code",
   "execution_count": 20,
   "metadata": {
    "collapsed": false
   },
   "outputs": [
    {
     "name": "stdout",
     "output_type": "stream",
     "text": [
      "11\n",
      "9\n",
      "-1\n"
     ]
    }
   ],
   "source": [
    "def binary_search(alist, target):\n",
    "    lower = 0\n",
    "    upper = len(alist)\n",
    "    \n",
    "    while lower < upper:\n",
    "        x = lower + (upper - lower)/2\n",
    "        val = alist[x]\n",
    "        \n",
    "        if target == val:\n",
    "            return x\n",
    "        \n",
    "        elif target > val:\n",
    "            if lower == x:\n",
    "                print target\n",
    "                print val\n",
    "                return -1\n",
    "            \n",
    "            lower = x\n",
    "            \n",
    "        else:\n",
    "            upper = x\n",
    "        \n",
    "  \n",
    "print binary_search([1,2,3,4,5,7,8,9], 11)"
   ]
  },
  {
   "cell_type": "code",
   "execution_count": null,
   "metadata": {
    "collapsed": true
   },
   "outputs": [],
   "source": []
  }
 ],
 "metadata": {
  "kernelspec": {
   "display_name": "Python 2",
   "language": "python",
   "name": "python2"
  },
  "language_info": {
   "codemirror_mode": {
    "name": "ipython",
    "version": 2
   },
   "file_extension": ".py",
   "mimetype": "text/x-python",
   "name": "python",
   "nbconvert_exporter": "python",
   "pygments_lexer": "ipython2",
   "version": "2.7.11"
  }
 },
 "nbformat": 4,
 "nbformat_minor": 0
}
