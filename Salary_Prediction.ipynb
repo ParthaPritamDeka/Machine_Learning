{
 "cells": [
  {
   "cell_type": "markdown",
   "metadata": {},
   "source": [
    "# Loading the data"
   ]
  },
  {
   "cell_type": "code",
   "execution_count": 1,
   "metadata": {},
   "outputs": [
    {
     "name": "stdout",
     "output_type": "stream",
     "text": [
      "Data Train Salary has 1000000 samples with 2 columns each.\n",
      "Data Train features has 1000000 samples with 8 features each.\n"
     ]
    }
   ],
   "source": [
    "# Import libraries necessary for this project\n",
    "import numpy as np\n",
    "import pandas as pd\n",
    "#import renders as rs\n",
    "from IPython.display import display # Allows the use of display() for DataFrames\n",
    "\n",
    "# Show matplotlib plots inline (nicely formatted in the notebook)\n",
    "%matplotlib inline\n",
    "\n",
    "# Load the wholesale customers dataset\n",
    "try:\n",
    "    data_train_sal = pd.read_csv(\"train_salaries_2013-03-07.csv\")\n",
    "    data_train_ftr = pd.read_csv(\"train_features_2013-03-07.csv\")\n",
    "    \n",
    "    #data.drop(['Region', 'Channel'], axis = 1, inplace = True)\n",
    "    print \"Data Train Salary has {} samples with {} columns each.\".format(*data_train_sal.shape)\n",
    "    print \"Data Train features has {} samples with {} features each.\".format(*data_train_ftr.shape)\n",
    "except:\n",
    "    print \"Dataset could not be loaded. Is the dataset missing?\"\n",
    "    \n"
   ]
  },
  {
   "cell_type": "markdown",
   "metadata": {},
   "source": [
    "# Investigating the data"
   ]
  },
  {
   "cell_type": "code",
   "execution_count": 191,
   "metadata": {},
   "outputs": [
    {
     "name": "stderr",
     "output_type": "stream",
     "text": [
      "/Applications/anaconda/lib/python2.7/site-packages/ipykernel/__main__.py:4: UserWarning: Boolean Series key will be reindexed to match DataFrame index.\n"
     ]
    }
   ],
   "source": [
    "#Looking at the data I found that there are many 'NONE' values for 'degree' and 'major' column. I am sure most of the jobs require degree.\n",
    "#So. thinking of deleteing all records for which 'degree' and 'major' columns are NONE where the jobTypes are: '\n",
    "#'SENIOR','VICE PRESIDENT','JUNIOR','CTO','CEO','CFO','MANAGER' except 'JANITOR'\n",
    "True\n",
    "\n",
    "#data_train_ftr.drop(data_train_ftr[(data_train_ftr['degree'] == 'NONE')&(data_train_ftr['major'] == 'NONE')][(data_train_ftr['jobType']=='CFO')|(data_train_ftr['jobType']=='CTO')|(data_train_ftr['jobType']=='JUNIOR')|(data_train_ftr['jobType']=='MANAGER')|(data_train_ftr['jobType']=='VICE_PRESIDENT')|(data_train_ftr['jobType']=='CEO')|(data_train_ftr['jobType']=='SENIOR')][['degree', 'major','jobType']].index, inplace=)\n"
   ]
  },
  {
   "cell_type": "code",
   "execution_count": 63,
   "metadata": {
    "collapsed": true
   },
   "outputs": [],
   "source": [
    "#data_train_ftr.reset_index()"
   ]
  },
  {
   "cell_type": "code",
   "execution_count": null,
   "metadata": {
    "collapsed": true
   },
   "outputs": [],
   "source": [
    "# Also thinking of dropping rows for which degree - 'MASTERS', 'BACHELORS', 'DOCTORAL' and major is 'NONE\""
   ]
  },
  {
   "cell_type": "code",
   "execution_count": 193,
   "metadata": {},
   "outputs": [
    {
     "name": "stderr",
     "output_type": "stream",
     "text": [
      "/Applications/anaconda/lib/python2.7/site-packages/ipykernel/__main__.py:1: UserWarning: Boolean Series key will be reindexed to match DataFrame index.\n",
      "  if __name__ == '__main__':\n"
     ]
    }
   ],
   "source": [
    "#data_train_ftr.drop(data_train_ftr[data_train_ftr['major'] == 'NONE'][(data_train_ftr['degree']=='MASTERS')|(data_train_ftr['degree']=='BACHELORS')|(data_train_ftr['degree']=='DOCTORAL')].index, inplace = True)"
   ]
  },
  {
   "cell_type": "code",
   "execution_count": null,
   "metadata": {
    "collapsed": true
   },
   "outputs": [],
   "source": [
    "#data_train_ftr.reset_index()"
   ]
  },
  {
   "cell_type": "code",
   "execution_count": 197,
   "metadata": {},
   "outputs": [
    {
     "data": {
      "text/plain": [
       "(767165, 8)"
      ]
     },
     "execution_count": 197,
     "metadata": {},
     "output_type": "execute_result"
    }
   ],
   "source": [
    "#data_train_ftr.shape"
   ]
  },
  {
   "cell_type": "code",
   "execution_count": 198,
   "metadata": {
    "collapsed": true
   },
   "outputs": [],
   "source": [
    "#finding None in Salary DataFrame\n",
    "\n",
    "data_train_sal.replace('NONE', np.nan, inplace=True)"
   ]
  },
  {
   "cell_type": "code",
   "execution_count": 199,
   "metadata": {},
   "outputs": [
    {
     "data": {
      "text/plain": [
       "jobId     False\n",
       "salary    False\n",
       "dtype: bool"
      ]
     },
     "execution_count": 199,
     "metadata": {},
     "output_type": "execute_result"
    }
   ],
   "source": [
    "data_train_sal.isnull().any()"
   ]
  },
  {
   "cell_type": "code",
   "execution_count": 200,
   "metadata": {},
   "outputs": [
    {
     "data": {
      "text/plain": [
       "(1000000, 2)"
      ]
     },
     "execution_count": 200,
     "metadata": {},
     "output_type": "execute_result"
    }
   ],
   "source": [
    "data_train_sal.shape"
   ]
  },
  {
   "cell_type": "code",
   "execution_count": 201,
   "metadata": {
    "collapsed": true
   },
   "outputs": [],
   "source": [
    "#Investigating the uniqueness of job id\n",
    "#data_train_sal.groupby(['jobId'], as_index=False).sum()\n",
    "#data_train_sal.groupby(['jobId'], as_index=False).count()"
   ]
  },
  {
   "cell_type": "markdown",
   "metadata": {},
   "source": [
    "# Merging the two datasets and investigating the merged dataset"
   ]
  },
  {
   "cell_type": "code",
   "execution_count": 3,
   "metadata": {
    "collapsed": true
   },
   "outputs": [],
   "source": [
    "data_features_salary = data_train_ftr.merge(data_train_sal, left_on='jobId', right_on='jobId', how='inner')"
   ]
  },
  {
   "cell_type": "code",
   "execution_count": 4,
   "metadata": {},
   "outputs": [
    {
     "data": {
      "text/plain": [
       "jobId                  1000000\n",
       "companyId              1000000\n",
       "jobType                1000000\n",
       "degree                 1000000\n",
       "major                  1000000\n",
       "industry               1000000\n",
       "yearsExperience        1000000\n",
       "milesFromMetropolis    1000000\n",
       "salary                 1000000\n",
       "dtype: int64"
      ]
     },
     "execution_count": 4,
     "metadata": {},
     "output_type": "execute_result"
    }
   ],
   "source": [
    "data_features_salary.count()"
   ]
  },
  {
   "cell_type": "code",
   "execution_count": 5,
   "metadata": {},
   "outputs": [],
   "source": [
    "#Jobid is just a unique identifier so we can drop it\n",
    "data_features_salary.drop(['jobId'], axis=1, inplace=True)"
   ]
  },
  {
   "cell_type": "code",
   "execution_count": 6,
   "metadata": {},
   "outputs": [
    {
     "data": {
      "text/html": [
       "<div>\n",
       "<style>\n",
       "    .dataframe thead tr:only-child th {\n",
       "        text-align: right;\n",
       "    }\n",
       "\n",
       "    .dataframe thead th {\n",
       "        text-align: left;\n",
       "    }\n",
       "\n",
       "    .dataframe tbody tr th {\n",
       "        vertical-align: top;\n",
       "    }\n",
       "</style>\n",
       "<table border=\"1\" class=\"dataframe\">\n",
       "  <thead>\n",
       "    <tr style=\"text-align: right;\">\n",
       "      <th></th>\n",
       "      <th>companyId</th>\n",
       "      <th>jobType</th>\n",
       "      <th>degree</th>\n",
       "      <th>major</th>\n",
       "      <th>industry</th>\n",
       "      <th>yearsExperience</th>\n",
       "      <th>milesFromMetropolis</th>\n",
       "      <th>salary</th>\n",
       "    </tr>\n",
       "  </thead>\n",
       "  <tbody>\n",
       "    <tr>\n",
       "      <th>0</th>\n",
       "      <td>COMP37</td>\n",
       "      <td>CFO</td>\n",
       "      <td>MASTERS</td>\n",
       "      <td>MATH</td>\n",
       "      <td>HEALTH</td>\n",
       "      <td>10</td>\n",
       "      <td>83</td>\n",
       "      <td>130</td>\n",
       "    </tr>\n",
       "    <tr>\n",
       "      <th>1</th>\n",
       "      <td>COMP19</td>\n",
       "      <td>CEO</td>\n",
       "      <td>HIGH_SCHOOL</td>\n",
       "      <td>NONE</td>\n",
       "      <td>WEB</td>\n",
       "      <td>3</td>\n",
       "      <td>73</td>\n",
       "      <td>101</td>\n",
       "    </tr>\n",
       "    <tr>\n",
       "      <th>2</th>\n",
       "      <td>COMP52</td>\n",
       "      <td>VICE_PRESIDENT</td>\n",
       "      <td>DOCTORAL</td>\n",
       "      <td>PHYSICS</td>\n",
       "      <td>HEALTH</td>\n",
       "      <td>10</td>\n",
       "      <td>38</td>\n",
       "      <td>137</td>\n",
       "    </tr>\n",
       "    <tr>\n",
       "      <th>3</th>\n",
       "      <td>COMP38</td>\n",
       "      <td>MANAGER</td>\n",
       "      <td>DOCTORAL</td>\n",
       "      <td>CHEMISTRY</td>\n",
       "      <td>AUTO</td>\n",
       "      <td>8</td>\n",
       "      <td>17</td>\n",
       "      <td>142</td>\n",
       "    </tr>\n",
       "    <tr>\n",
       "      <th>4</th>\n",
       "      <td>COMP7</td>\n",
       "      <td>VICE_PRESIDENT</td>\n",
       "      <td>BACHELORS</td>\n",
       "      <td>PHYSICS</td>\n",
       "      <td>FINANCE</td>\n",
       "      <td>8</td>\n",
       "      <td>16</td>\n",
       "      <td>163</td>\n",
       "    </tr>\n",
       "  </tbody>\n",
       "</table>\n",
       "</div>"
      ],
      "text/plain": [
       "  companyId         jobType       degree      major industry  yearsExperience  \\\n",
       "0    COMP37             CFO      MASTERS       MATH   HEALTH               10   \n",
       "1    COMP19             CEO  HIGH_SCHOOL       NONE      WEB                3   \n",
       "2    COMP52  VICE_PRESIDENT     DOCTORAL    PHYSICS   HEALTH               10   \n",
       "3    COMP38         MANAGER     DOCTORAL  CHEMISTRY     AUTO                8   \n",
       "4     COMP7  VICE_PRESIDENT    BACHELORS    PHYSICS  FINANCE                8   \n",
       "\n",
       "   milesFromMetropolis  salary  \n",
       "0                   83     130  \n",
       "1                   73     101  \n",
       "2                   38     137  \n",
       "3                   17     142  \n",
       "4                   16     163  "
      ]
     },
     "execution_count": 6,
     "metadata": {},
     "output_type": "execute_result"
    }
   ],
   "source": [
    "data_features_salary.head()"
   ]
  },
  {
   "cell_type": "code",
   "execution_count": 25,
   "metadata": {},
   "outputs": [
    {
     "data": {
      "text/plain": [
       "(1000000, 8)"
      ]
     },
     "execution_count": 25,
     "metadata": {},
     "output_type": "execute_result"
    }
   ],
   "source": [
    "data_features_salary.shape"
   ]
  },
  {
   "cell_type": "code",
   "execution_count": 62,
   "metadata": {
    "collapsed": true
   },
   "outputs": [],
   "source": [
    "#Decision taken: \n",
    "#I decided not to delete records for \"data_train_ftr\" dataframe/  \"train_features_2013-03-07.csv\" file for which the \n",
    "#values for \"degree\" and \"major\" are None\n",
    "#If I delete these records and train a model, my model will not be able predict the salaries for new records with \n",
    "#\"NONE\" values for 'degree' and 'major'. As both the \"train_features_2013-03-07.csv\" and \n",
    "#\"test_features_2013-03-07.csv\" files have 'NONE' values for 'degree' and 'major' columns.\n"
   ]
  },
  {
   "cell_type": "markdown",
   "metadata": {},
   "source": [
    "# CONVERTING CATEGORICAL TO NUMERICAL COLUMNS"
   ]
  },
  {
   "cell_type": "code",
   "execution_count": 7,
   "metadata": {
    "collapsed": true
   },
   "outputs": [],
   "source": [
    "from sklearn import preprocessing\n",
    "\n",
    "le_cid = preprocessing.LabelEncoder()\n",
    "le_jty = preprocessing.LabelEncoder()\n",
    "le_deg = preprocessing.LabelEncoder()\n",
    "le_mjr = preprocessing.LabelEncoder()\n",
    "le_idr = preprocessing.LabelEncoder()\n",
    "\n",
    "le_cid.fit(data_features_salary['companyId'])\n",
    "le_jty.fit(data_features_salary['jobType']) \n",
    "le_deg.fit(data_features_salary['degree'])\n",
    "le_mjr.fit(data_features_salary['major'])\n",
    "le_idr.fit(data_features_salary['industry'])\n",
    "\n",
    "from sklearn.externals import joblib\n",
    "joblib.dump(le_cid, 'le_cid.pkl', compress=1)\n",
    "joblib.dump(le_jty, 'le_jty.pkl', compress=1)\n",
    "joblib.dump(le_deg, 'le_deg.pkl', compress=1)\n",
    "joblib.dump(le_mjr, 'le_mjr.pkl', compress=1)\n",
    "joblib.dump(le_idr, 'le_idr.pkl', compress=1)\n",
    "\n",
    "data_features_salary['companyId'] = le_cid.transform(data_features_salary['companyId'] )\n",
    "data_features_salary['jobType'] = le_jty.transform(data_features_salary['jobType'])\n",
    "data_features_salary['degree'] = le_deg.transform(data_features_salary['degree'])\n",
    "data_features_salary['major'] = le_mjr.transform(data_features_salary['major'])\n",
    "data_features_salary['industry'] = le_idr.transform(data_features_salary['industry'])\n"
   ]
  },
  {
   "cell_type": "code",
   "execution_count": 41,
   "metadata": {},
   "outputs": [
    {
     "data": {
      "text/html": [
       "<div>\n",
       "<style>\n",
       "    .dataframe thead tr:only-child th {\n",
       "        text-align: right;\n",
       "    }\n",
       "\n",
       "    .dataframe thead th {\n",
       "        text-align: left;\n",
       "    }\n",
       "\n",
       "    .dataframe tbody tr th {\n",
       "        vertical-align: top;\n",
       "    }\n",
       "</style>\n",
       "<table border=\"1\" class=\"dataframe\">\n",
       "  <thead>\n",
       "    <tr style=\"text-align: right;\">\n",
       "      <th></th>\n",
       "      <th>companyId</th>\n",
       "      <th>jobType</th>\n",
       "      <th>degree</th>\n",
       "      <th>major</th>\n",
       "      <th>industry</th>\n",
       "      <th>yearsExperience</th>\n",
       "      <th>milesFromMetropolis</th>\n",
       "      <th>salary</th>\n",
       "    </tr>\n",
       "  </thead>\n",
       "  <tbody>\n",
       "    <tr>\n",
       "      <th>0</th>\n",
       "      <td>31</td>\n",
       "      <td>1</td>\n",
       "      <td>3</td>\n",
       "      <td>6</td>\n",
       "      <td>3</td>\n",
       "      <td>10</td>\n",
       "      <td>83</td>\n",
       "      <td>130</td>\n",
       "    </tr>\n",
       "    <tr>\n",
       "      <th>1</th>\n",
       "      <td>11</td>\n",
       "      <td>0</td>\n",
       "      <td>2</td>\n",
       "      <td>7</td>\n",
       "      <td>6</td>\n",
       "      <td>3</td>\n",
       "      <td>73</td>\n",
       "      <td>101</td>\n",
       "    </tr>\n",
       "    <tr>\n",
       "      <th>2</th>\n",
       "      <td>48</td>\n",
       "      <td>7</td>\n",
       "      <td>1</td>\n",
       "      <td>8</td>\n",
       "      <td>3</td>\n",
       "      <td>10</td>\n",
       "      <td>38</td>\n",
       "      <td>137</td>\n",
       "    </tr>\n",
       "    <tr>\n",
       "      <th>3</th>\n",
       "      <td>32</td>\n",
       "      <td>5</td>\n",
       "      <td>1</td>\n",
       "      <td>2</td>\n",
       "      <td>0</td>\n",
       "      <td>8</td>\n",
       "      <td>17</td>\n",
       "      <td>142</td>\n",
       "    </tr>\n",
       "    <tr>\n",
       "      <th>4</th>\n",
       "      <td>60</td>\n",
       "      <td>7</td>\n",
       "      <td>0</td>\n",
       "      <td>8</td>\n",
       "      <td>2</td>\n",
       "      <td>8</td>\n",
       "      <td>16</td>\n",
       "      <td>163</td>\n",
       "    </tr>\n",
       "  </tbody>\n",
       "</table>\n",
       "</div>"
      ],
      "text/plain": [
       "   companyId  jobType  degree  major  industry  yearsExperience  \\\n",
       "0         31        1       3      6         3               10   \n",
       "1         11        0       2      7         6                3   \n",
       "2         48        7       1      8         3               10   \n",
       "3         32        5       1      2         0                8   \n",
       "4         60        7       0      8         2                8   \n",
       "\n",
       "   milesFromMetropolis  salary  \n",
       "0                   83     130  \n",
       "1                   73     101  \n",
       "2                   38     137  \n",
       "3                   17     142  \n",
       "4                   16     163  "
      ]
     },
     "execution_count": 41,
     "metadata": {},
     "output_type": "execute_result"
    }
   ],
   "source": [
    "data_features_salary.head()"
   ]
  },
  {
   "cell_type": "markdown",
   "metadata": {},
   "source": [
    "# UNIVARIATE FEATURE ANALYSIS USING FILTER METHOD"
   ]
  },
  {
   "cell_type": "markdown",
   "metadata": {},
   "source": [
    "# feature analysis for the categorical data"
   ]
  },
  {
   "cell_type": "code",
   "execution_count": 49,
   "metadata": {},
   "outputs": [
    {
     "data": {
      "image/png": "[encoded data removed]",
      "text/plain": [
       "<matplotlib.figure.Figure at 0x11b3d47d0>"
      ]
     },
     "metadata": {},
     "output_type": "display_data"
    },
    {
     "data": {
      "image/png": "[encoded data removed]",
      "text/plain": [
       "<matplotlib.figure.Figure at 0x1203328d0>"
      ]
     },
     "metadata": {},
     "output_type": "display_data"
    }
   ],
   "source": [
    "# The most of the feature columns - CompanyId, JobType, degree, major, industry are categorical column and the target\n",
    "# salary is a continous variable -- I will use ANOVA statistical analysis to find the co-relation between the categorical variables\n",
    "# and the target continuous variable\n",
    "import numpy as np\n",
    "from sklearn.feature_selection import SelectKBest, SelectPercentile, f_regression\n",
    "import matplotlib.pyplot as plt\n",
    "%matplotlib inline\n",
    "\n",
    "cat_feature_salary = data_features_salary.filter(['companyId', 'jobType', 'degree', 'major', 'industry'], axis=1)\n",
    "y_sal = data_features_salary['salary']\n",
    "predictors = list(cat_feature_salary.columns.values)\n",
    "\n",
    "selector = SelectKBest(f_regression, k=5)\n",
    "selector.fit(cat_feature_salary, y_sal)\n",
    "scores_f_regressor = selector.scores_\n",
    "scores_p_values = selector.pvalues_ \n",
    "\n",
    "plt.bar(range(len(predictors)), scores_f_regressor)\n",
    "plt.xticks(range(len(predictors)), predictors, rotation='vertical')\n",
    "plt.title('Scores for Categorical Predictors')\n",
    "plt.show()\n",
    "\n",
    "\n",
    "plt.bar(range(len(predictors)), scores_p_values)\n",
    "plt.xticks(range(len(predictors)), predictors, rotation='vertical')\n",
    "plt.title('P values for Categorical Predictors')\n",
    "plt.show()\n"
   ]
  },
  {
   "cell_type": "code",
   "execution_count": 24,
   "metadata": {
    "collapsed": true
   },
   "outputs": [],
   "source": [
    "#Standalone F regression"
   ]
  },
  {
   "cell_type": "code",
   "execution_count": 48,
   "metadata": {},
   "outputs": [
    {
     "data": {
      "image/png": "[encoded data removed]",
      "text/plain": [
       "<matplotlib.figure.Figure at 0x11f8759d0>"
      ]
     },
     "metadata": {},
     "output_type": "display_data"
    },
    {
     "data": {
      "image/png": "[encoded data removed]",
      "text/plain": [
       "<matplotlib.figure.Figure at 0x11d18c4d0>"
      ]
     },
     "metadata": {},
     "output_type": "display_data"
    }
   ],
   "source": [
    "F, p_val = f_regression(cat_feature_salary, y_sal, center=True)\n",
    "\n",
    "\n",
    "plt.bar(range(len(predictors)), F)\n",
    "plt.xticks(range(len(predictors)), predictors, rotation='vertical')\n",
    "plt.title('F values for Categorical Predictors')\n",
    "plt.show()\n",
    "\n",
    "\n",
    "plt.bar(range(len(predictors)), p_val)\n",
    "plt.xticks(range(len(predictors)), predictors, rotation='vertical')\n",
    "plt.title('P values for Categorical Predictors')\n",
    "plt.show()"
   ]
  },
  {
   "cell_type": "markdown",
   "metadata": {},
   "source": [
    "# feature analysis for continous variables"
   ]
  },
  {
   "cell_type": "code",
   "execution_count": 245,
   "metadata": {},
   "outputs": [
    {
     "data": {
      "text/html": [
       "<div>\n",
       "<style>\n",
       "    .dataframe thead tr:only-child th {\n",
       "        text-align: right;\n",
       "    }\n",
       "\n",
       "    .dataframe thead th {\n",
       "        text-align: left;\n",
       "    }\n",
       "\n",
       "    .dataframe tbody tr th {\n",
       "        vertical-align: top;\n",
       "    }\n",
       "</style>\n",
       "<table border=\"1\" class=\"dataframe\">\n",
       "  <thead>\n",
       "    <tr style=\"text-align: right;\">\n",
       "      <th></th>\n",
       "      <th>yearsExperience</th>\n",
       "      <th>milesFromMetropolis</th>\n",
       "      <th>salary</th>\n",
       "    </tr>\n",
       "  </thead>\n",
       "  <tbody>\n",
       "    <tr>\n",
       "      <th>yearsExperience</th>\n",
       "      <td>1.000000</td>\n",
       "      <td>0.000673</td>\n",
       "      <td>0.375013</td>\n",
       "    </tr>\n",
       "    <tr>\n",
       "      <th>milesFromMetropolis</th>\n",
       "      <td>0.000673</td>\n",
       "      <td>1.000000</td>\n",
       "      <td>-0.297666</td>\n",
       "    </tr>\n",
       "    <tr>\n",
       "      <th>salary</th>\n",
       "      <td>0.375013</td>\n",
       "      <td>-0.297666</td>\n",
       "      <td>1.000000</td>\n",
       "    </tr>\n",
       "  </tbody>\n",
       "</table>\n",
       "</div>"
      ],
      "text/plain": [
       "                     yearsExperience  milesFromMetropolis    salary\n",
       "yearsExperience             1.000000             0.000673  0.375013\n",
       "milesFromMetropolis         0.000673             1.000000 -0.297666\n",
       "salary                      0.375013            -0.297666  1.000000"
      ]
     },
     "execution_count": 245,
     "metadata": {},
     "output_type": "execute_result"
    }
   ],
   "source": [
    "# From the two plots what I can infer is major, degree, jobType, and industry have high co-relation with Salary in decreasing order\n",
    "# hence have very low p-values close to zero and hence companyid (highest p value) may not be having strong co-relations with Salary \n",
    "\n",
    "# For the contious variables - yearsExperience, milesFromMetropolis I would like to use some sort of co-relation metric\n",
    "# to understand the co-relation with Salary\n",
    "\n",
    "cont_feature_sal = data_features_salary.filter(['yearsExperience', 'milesFromMetropolis', 'salary'], axis=1)\n",
    "\n",
    "cont_feature_sal.corr(method = 'pearson')"
   ]
  },
  {
   "cell_type": "code",
   "execution_count": null,
   "metadata": {
    "collapsed": true
   },
   "outputs": [],
   "source": [
    "# From this co-relation metric it seems like \"yearsExperience\" has a good positive co-relation with \"salary\" and \n",
    "#\"milsFRomMetropolis\" has negative co-relation with salary. I will keep both of them for my final model"
   ]
  },
  {
   "cell_type": "code",
   "execution_count": 34,
   "metadata": {
    "collapsed": true
   },
   "outputs": [],
   "source": [
    "#scatter plots between the continous features"
   ]
  },
  {
   "cell_type": "code",
   "execution_count": 246,
   "metadata": {},
   "outputs": [
    {
     "data": {
      "text/plain": [
       "<matplotlib.axes._subplots.AxesSubplot at 0x12293e850>"
      ]
     },
     "execution_count": 246,
     "metadata": {},
     "output_type": "execute_result"
    },
    {
     "data": {
      "image/png": "[encoded data removed]",
      "text/plain": [
       "<matplotlib.figure.Figure at 0x113decc10>"
      ]
     },
     "metadata": {},
     "output_type": "display_data"
    },
    {
     "data": {
      "image/png": "[encoded data removed]",
      "text/plain": [
       "<matplotlib.figure.Figure at 0x110544750>"
      ]
     },
     "metadata": {},
     "output_type": "display_data"
    }
   ],
   "source": [
    "data_features_salary.plot.scatter(x = 'yearsExperience', y = 'salary')\n",
    "data_features_salary.plot.scatter(x = 'milesFromMetropolis', y = 'salary')"
   ]
  },
  {
   "cell_type": "code",
   "execution_count": null,
   "metadata": {
    "collapsed": true
   },
   "outputs": [],
   "source": [
    "#From the above plots we can also infer that the contious features do not interact linearly"
   ]
  },
  {
   "cell_type": "markdown",
   "metadata": {},
   "source": [
    "# Building a Supervised Learning Model"
   ]
  },
  {
   "cell_type": "markdown",
   "metadata": {},
   "source": [
    "# Train , test  shuffle split with crossvalidation"
   ]
  },
  {
   "cell_type": "code",
   "execution_count": 8,
   "metadata": {},
   "outputs": [
    {
     "name": "stdout",
     "output_type": "stream",
     "text": [
      "Training set has 900000 samples.\n",
      "Test set has 100000 samples.\n"
     ]
    },
    {
     "name": "stderr",
     "output_type": "stream",
     "text": [
      "/Applications/anaconda/lib/python2.7/site-packages/sklearn/cross_validation.py:44: DeprecationWarning: This module was deprecated in version 0.18 in favor of the model_selection module into which all the refactored classes and functions are moved. Also note that the interface of the new CV iterators are different from that of this module. This module will be removed in 0.20.\n",
      "  \"This module will be removed in 0.20.\", DeprecationWarning)\n"
     ]
    }
   ],
   "source": [
    "#Based on the univariate feature analysis above, I am going to drop \"companyid\" from my feature set and ofcourse jobid\n",
    "# as jobid is just a unique identifier\n",
    "\n",
    "features = data_features_salary.filter(['jobType','degree','major','industry','yearsExperience', 'milesFromMetropolis'], axis=1)\n",
    "\n",
    "target = data_features_salary['salary']\n",
    "\n",
    "#test train Shuffle split 90% train and 10% test\n",
    "\n",
    "from sklearn.cross_validation import train_test_split\n",
    "\n",
    "X_train, X_test, y_train, y_test = train_test_split(features, target, test_size=.10, random_state=42)\n",
    "\n",
    "print \"Training set has {} samples.\".format(X_train.shape[0])\n",
    "print \"Test set has {} samples.\".format(X_test.shape[0])"
   ]
  },
  {
   "cell_type": "code",
   "execution_count": 50,
   "metadata": {},
   "outputs": [
    {
     "name": "stdout",
     "output_type": "stream",
     "text": [
      "Training set has 900000 samples.\n",
      "Test set has 100000 samples.\n"
     ]
    }
   ],
   "source": [
    "# Test train split with Company Id Included\n",
    "\n",
    "features_ci = data_features_salary.filter(['companyId','jobType','degree','major','industry','yearsExperience', 'milesFromMetropolis'], axis=1)\n",
    "\n",
    "\n",
    "#test train Shuffle split 90% train and 10% test\n",
    "\n",
    "from sklearn.cross_validation import train_test_split\n",
    "\n",
    "X_train_ci, X_test_ci, y_train_ci, y_test_ci = train_test_split(features_ci, target, test_size=.10, random_state=42)\n",
    "\n",
    "print \"Training set has {} samples.\".format(X_train_ci.shape[0])\n",
    "print \"Test set has {} samples.\".format(X_test_ci.shape[0])"
   ]
  },
  {
   "cell_type": "markdown",
   "metadata": {},
   "source": [
    "# Helper methods for Modelling"
   ]
  },
  {
   "cell_type": "code",
   "execution_count": 44,
   "metadata": {
    "collapsed": true
   },
   "outputs": [],
   "source": [
    "from sklearn.metrics import r2_score\n",
    "from time import time\n",
    "def train_regressor(rgr, X_train, y_train):\n",
    "    ''' Fits a classifier to the training data. '''\n",
    "    \n",
    "    # Start the clock, train the classifier, then stop the clock\n",
    "    start = time()\n",
    "    rgr.fit(X_train, y_train)\n",
    "    end = time()\n",
    "    \n",
    "    # Print the results\n",
    "    print \"Trained model in {:.4f} seconds\".format(end - start)\n",
    "\n",
    "    \n",
    "def predict_values(rgr, features, target):\n",
    "    ''' Makes predictions using a fit classifier based on F1 score. '''\n",
    "    \n",
    "    # Start the clock, make predictions, then stop the clock\n",
    "    start = time()\n",
    "    y_pred = rgr.predict(features)\n",
    "    end = time()\n",
    "    \n",
    "    # Print and return results\n",
    "    print \"Made predictions in {:.4f} seconds.\".format(end - start)\n",
    "    #return f1_score(target.values, y_pred, pos_label='yes')\n",
    "    #return f1_score(target.values, y_pred, pos_label=None, average='weighted')\n",
    "    return r2_score(target.values, y_pred)\n",
    "\n",
    "\n",
    "def train_predict(rgr, X_train, y_train, X_test, y_test):\n",
    "    ''' Train and predict using a classifer based on F1 score. '''\n",
    "    \n",
    "    # Indicate the classifier and the training set size\n",
    "    print \"Training a {} using a training set size of {}. . .\".format(rgr.__class__.__name__, len(X_train))\n",
    "    \n",
    "    # Train the classifier\n",
    "    train_regressor(rgr, X_train, y_train)\n",
    "    \n",
    "    # Print the results of prediction for both training and testing\n",
    "    print \"R2 Score for training set: {:.4f}.\".format(predict_values(rgr, X_train, y_train))\n",
    "    print \"R2 score for test set: {:.4f}.\".format(predict_values(rgr, X_test, y_test))"
   ]
  },
  {
   "cell_type": "markdown",
   "metadata": {},
   "source": [
    "# MODELLING\n",
    "\n",
    "- MODEL REASONING: I am thinking of modelling a \"RANDOM FOREST\" or a \"GRADIENT BOOSTING\" Regressor. The reason I am think of using a Decision tree based bagging or boosting model : a) Most of the features in the dataset are categorical and categorical features(nominal data) do not have linear interactions. b) The two continous variables(\"yearsExperience\" & \"milesFromMetropolis\") do not interact linearly with the target variable(\"salary\") as well. So, overall a linear model like a multi variate linear regression or \"Support Vector Machine with a linear Kernel\" would not suffice. I might as well try \"Suppor Vector Machine with a Non-linear Kernal such RBF\" later. lets see....."
   ]
  },
  {
   "cell_type": "code",
   "execution_count": 10,
   "metadata": {},
   "outputs": [
    {
     "name": "stdout",
     "output_type": "stream",
     "text": [
      "[ 0.75983009  0.75974597  0.76019741]\n"
     ]
    }
   ],
   "source": [
    "# Import the three supervised learning models from sklearn \n",
    "# For RandomForest and Gradient Boosting I will start with the default parameters, Later I will see\n",
    "# if I would need to perform hyper paremeter tuning with gridsearch to improve score on the test set\n",
    "\n",
    "from sklearn.preprocessing import StandardScaler\n",
    "\n",
    "from sklearn.ensemble import RandomForestRegressor\n",
    "from sklearn.ensemble import GradientBoostingRegressor\n",
    "from sklearn.svm import SVR\n",
    "\n",
    "# TODO: Initialize the three models\n",
    "rgr_A = RandomForestRegressor(n_estimators=300, #max_features = \"sqrt\",min_samples_split = 10,min_samples_leaf = 10,\n",
    "                              #max_depth = 30,\n",
    "                              n_jobs=-1,\n",
    "                              random_state = 42)\n",
    "\n",
    "rgr_B = GradientBoostingRegressor(n_estimators = 600, random_state = 42)\n",
    "\n",
    "#train_predict(rgr_A, X_train, y_train, X_test, y_test)\n",
    "    \n",
    "#train_predict(rgr_B, X_train, y_train, X_test, y_test)\n",
    "    \n",
    "from sklearn.model_selection import cross_val_score\n",
    "\n",
    "print(cross_val_score(rgr_B, X_train, y_train))\n",
    "\n",
    "#RF [ 0.70287521  0.70221358  0.70393776]"
   ]
  },
  {
   "cell_type": "code",
   "execution_count": 256,
   "metadata": {},
   "outputs": [
    {
     "data": {
      "text/plain": [
       "['rf_regressor_96_train_72_test.pkl']"
      ]
     },
     "execution_count": 256,
     "metadata": {},
     "output_type": "execute_result"
    }
   ],
   "source": [
    "joblib.dump(rgr_A, 'rf_regressor_96_train_72_test.pkl', compress=1)"
   ]
  },
  {
   "cell_type": "code",
   "execution_count": 250,
   "metadata": {},
   "outputs": [
    {
     "name": "stdout",
     "output_type": "stream",
     "text": [
      "Training a GradientBoostingRegressor using a training set size of 900000. . .\n",
      "Trained model in 873.4390 seconds\n",
      "Made predictions in 27.6256 seconds.\n",
      "R2 Score for training set: 0.7635.\n",
      "Made predictions in 3.0773 seconds.\n",
      "R2 score for test set: 0.7645.\n"
     ]
    }
   ],
   "source": [
    "#trying to improve the accuracy og the GB Regressor with 2000 boosting stages or estimators\n",
    "rgr_B1 = GradientBoostingRegressor(n_estimators = 2000, random_state = 42)\n",
    "\n",
    "train_predict(rgr_B1, X_train, y_train, X_test, y_test)"
   ]
  },
  {
   "cell_type": "code",
   "execution_count": 260,
   "metadata": {},
   "outputs": [
    {
     "data": {
      "text/plain": [
       "['gb_regressor_7635_train_7645_test.pkl']"
      ]
     },
     "execution_count": 260,
     "metadata": {},
     "output_type": "execute_result"
    }
   ],
   "source": [
    "joblib.dump(rgr_B1, 'gb_regressor_7635_train_7645_test.pkl', compress=1)"
   ]
  },
  {
   "cell_type": "code",
   "execution_count": 58,
   "metadata": {},
   "outputs": [
    {
     "name": "stdout",
     "output_type": "stream",
     "text": [
      "[ 0.12969911  0.05394687  0.29041135  0.22520847  0.15693564  0.14379856]\n",
      "Training a GradientBoostingRegressor using a training set size of 900000. . .\n",
      "Trained model in 978.4158 seconds\n",
      "Made predictions in 25.2221 seconds.\n",
      "R2 Score for training set: 0.7634.\n",
      "Made predictions in 2.7885 seconds.\n",
      "R2 score for test set: 0.7643.\n",
      "[ 0.06121651  0.12295385  0.05052422  0.28186786  0.20128709  0.13519009\n",
      "  0.14696039]\n"
     ]
    }
   ],
   "source": [
    "#Feature importnace without companyID\n",
    "from sklearn.ensemble import GradientBoostingRegressor\n",
    "\n",
    "rgr_B1 = joblib.load('gb_regressor_7635_train_7645_test.pkl')\n",
    "print rgr_B1.feature_importances_\n",
    "\n",
    "#feature imporantance without companyid  after training the model with company id\n",
    "rgr_B2 = GradientBoostingRegressor(n_estimators = 2000, random_state = 42)\n",
    "\n",
    "train_predict(rgr_B2, X_train_ci, y_train_ci, X_test_ci, y_test_ci)\n",
    "print rgr_B2.feature_importances_\n"
   ]
  },
  {
   "cell_type": "code",
   "execution_count": 46,
   "metadata": {},
   "outputs": [
    {
     "name": "stdout",
     "output_type": "stream",
     "text": [
      "Training a AdaBoostRegressor using a training set size of 900000. . .\n",
      "Trained model in 53.2657 seconds\n",
      "Made predictions in 4.1765 seconds.\n",
      "R2 Score for training set: 0.5101.\n",
      "Made predictions in 0.5002 seconds.\n",
      "R2 score for test set: 0.5142.\n"
     ]
    }
   ],
   "source": [
    "#Training an Adaboost regressor\n",
    "\n",
    "from sklearn.ensemble import AdaBoostRegressor\n",
    "rgr_ada = AdaBoostRegressor(n_estimators = 600, random_state = 42)\n",
    "train_predict(rgr_ada, X_train, y_train, X_test, y_test)\n"
   ]
  },
  {
   "cell_type": "code",
   "execution_count": null,
   "metadata": {
    "collapsed": true
   },
   "outputs": [],
   "source": [
    "# Adaboost is the worst model so far so I will reject Adaboost. So my candidates for my model so a far are Random Forest \n",
    "# and Gradient Boosting"
   ]
  },
  {
   "cell_type": "markdown",
   "metadata": {
    "collapsed": true
   },
   "source": [
    "## Grid search with k fold cross validation for the RandomForest Regressor"
   ]
  },
  {
   "cell_type": "code",
   "execution_count": 251,
   "metadata": {
    "collapsed": true
   },
   "outputs": [],
   "source": [
    "#Helper functions for gridsearch and performance metric\n",
    "def train_regressor_gridsearch(rgr, parameters, scorer, X_train, y_train):\n",
    "    print \"Performing RandomForest Randomized gridsearch\"\n",
    "    cv = ShuffleSplit(X_train.shape[0], n_iter=10, test_size=0.10, random_state=0)\n",
    "    n_iter_search = 20\n",
    "    grid_obj = RandomizedSearchCV(estimator=rgr, param_distributions=parameters, n_iter=n_iter_search, scoring=scorer, cv=cv)\n",
    "    grid_obj = grid_obj.fit(X_train, y_train)\n",
    "    print \"Done with Gridsearch\"\n",
    "    rgr_out = grid_obj.best_estimator_\n",
    "    return rgr_out\n",
    "\n",
    "def performance_metric(y_true, y_predict):\n",
    "    \"\"\" Calculates and returns the performance score between \n",
    "        true and predicted values based on the metric chosen. \"\"\"\n",
    "    \n",
    "    # TODO: Calculate the performance score between 'y_true' and 'y_predict'\n",
    "    \n",
    "    score = r2_score(y_true, y_predict)\n",
    "    \n",
    "    # Return the score\n",
    "    return score"
   ]
  },
  {
   "cell_type": "code",
   "execution_count": 252,
   "metadata": {},
   "outputs": [
    {
     "data": {
      "text/plain": [
       "\"\\nfrom sklearn.metrics import make_scorer\\nfrom sklearn.cross_validation import ShuffleSplit\\nfrom sklearn.grid_search import GridSearchCV, RandomizedSearchCV\\nparam = {'learning_rate' : [.004,.005,.006, .007], \\n         'n_estimators' : [600,900,1300], \\n         'max_depth' : range(1, 11)}\\n                  \\nparameters = param\\nscoring_fnc = make_scorer(performance_metric)\\nrgr_B1 = GradientBoostingRegressor(random_state = 42)  \\n\\ntrain_regressor = train_regressor_gridsearch(rgr_B1, parameters, scoring_fnc, X_train, y_train)\\n\""
      ]
     },
     "execution_count": 252,
     "metadata": {},
     "output_type": "execute_result"
    }
   ],
   "source": [
    "from sklearn.metrics import make_scorer\n",
    "from sklearn.cross_validation import ShuffleSplit\n",
    "from sklearn.grid_search import GridSearchCV, RandomizedSearchCV\n",
    "param = {'learning_rate' : [.004,.005,.006, .007], \n",
    "         'n_estimators' : [600,900,1300], \n",
    "         'max_depth' : range(1, 11)}\n",
    "                  \n",
    "parameters = param\n",
    "scoring_fnc = make_scorer(performance_metric)\n",
    "rgr_RB1 = RandomForestRegressor(random_state = 42)  \n",
    "\n",
    "train_regressor = train_regressor_gridsearch(rgr_RB1, parameters, scoring_fnc, X_train, y_train)"
   ]
  },
  {
   "cell_type": "markdown",
   "metadata": {},
   "source": [
    "# Not so happy with the performance of either RandomForest Regressor train score - .96, test_score - .72 (Looks like the model is slightly overfitting) and  Gradient boosting Regressor train and test score are : .76\n",
    "\n",
    "- so going to try out Mulilayer Perceptron Neural Network Regressor available as an Sklearn with the hope that I would end up getting a better model compared to RF or GB "
   ]
  },
  {
   "cell_type": "markdown",
   "metadata": {},
   "source": [
    "# Multi Layer Perceptron\n",
    "- starting off with all default parameters"
   ]
  },
  {
   "cell_type": "code",
   "execution_count": 33,
   "metadata": {},
   "outputs": [
    {
     "name": "stdout",
     "output_type": "stream",
     "text": [
      "Training set has 900000 samples.\n",
      "Test set has 100000 samples.\n",
      "Training a MLPRegressor using a training set size of 900000. . .\n",
      "Trained model in 4814.4090 seconds\n",
      "Made predictions in 37.2603 seconds.\n",
      "R2 Score for training set: 0.7617.\n",
      "Made predictions in 3.5841 seconds.\n",
      "R2 score for test set: 0.7632.\n"
     ]
    }
   ],
   "source": [
    "#We want to use all the features for a neural network to learn the interactions between features on its own\n",
    "from sklearn.preprocessing import StandardScaler\n",
    "\n",
    "features = data_features_salary.drop(['salary'], axis=1)\n",
    "\n",
    "target = data_features_salary['salary']\n",
    "\n",
    "#test train Shuffle split 90% train and 10% test\n",
    "\n",
    "from sklearn.cross_validation import train_test_split\n",
    "\n",
    "X_train, X_test, y_train, y_test = train_test_split(features, target, test_size=.10, random_state=42)\n",
    "\n",
    "#we must normalize the features for neural network models, they use gradient descent to optimize the cost function, \n",
    "#the shape of the contour could be very elongated then uniform. This could delay or make it difficult for Gradient Descent to\n",
    "#reach the global minima then when the contour is uniform\n",
    "\n",
    "X_train_std = StandardScaler().fit_transform(X_train)\n",
    "X_train_std = pd.DataFrame(X_train_std)\n",
    "\n",
    "X_test_std = StandardScaler().fit_transform(X_test)\n",
    "X_test_std = pd.DataFrame(X_test_std)\n",
    "\n",
    "\n",
    "print \"Training set has {} samples.\".format(X_train.shape[0])\n",
    "print \"Test set has {} samples.\".format(X_test.shape[0])\n",
    "\n",
    "from sklearn.neural_network import MLPRegressor\n",
    "#rgr_nn = MLPRegressor(hidden_layer_sizes = (300,150,70,20), max_iter = 3000, learning_rate = 'adaptive',learning_rate_init = 0.009, \n",
    "                      #tol = 1e-6)\n",
    "    \n",
    "# Results below\n",
    "\"\"\"\n",
    "Training set has 900000 samples.\n",
    "Test set has 100000 samples.\n",
    "Training a MLPRegressor using a training set size of 900000. . .\n",
    "Trained model in 2152.6810 seconds\n",
    "Made predictions in 16.8918 seconds.\n",
    "R2 Score for training set: 0.7582.\n",
    "Made predictions in 1.8715 seconds.\n",
    "R2 score for test set: 0.7595.\n",
    "\"\"\"\n",
    "    \n",
    "rgr_nn = MLPRegressor(hidden_layer_sizes = (500,280,150,70,20), max_iter = 4000, learning_rate = 'adaptive',learning_rate_init = 0.009, \n",
    "                      tol = 1e-6)\n",
    "train_predict(rgr_nn, X_train_std, y_train, X_test_std, y_test)\n",
    "\n",
    "#Results below\n",
    "\n",
    "\"\"\"\n",
    "Training set has 900000 samples.\n",
    "Test set has 100000 samples.\n",
    "Training a MLPRegressor using a training set size of 900000. . .\n",
    "Trained model in 4814.4090 seconds\n",
    "Made predictions in 37.2603 seconds.\n",
    "R2 Score for training set: 0.7617.\n",
    "Made predictions in 3.5841 seconds.\n",
    "R2 score for test set: 0.7632.\n",
    "\n",
    "\"\"\""
   ]
  },
  {
   "cell_type": "code",
   "execution_count": 34,
   "metadata": {},
   "outputs": [
    {
     "data": {
      "text/plain": [
       "['nn_regressor_7617_train_7632_test.pkl']"
      ]
     },
     "execution_count": 34,
     "metadata": {},
     "output_type": "execute_result"
    }
   ],
   "source": [
    "joblib.dump(rgr_nn, 'nn_regressor_7617_train_7632_test.pkl', compress=1)"
   ]
  },
  {
   "cell_type": "code",
   "execution_count": 138,
   "metadata": {},
   "outputs": [
    {
     "data": {
      "text/html": [
       "<div>\n",
       "<style>\n",
       "    .dataframe thead tr:only-child th {\n",
       "        text-align: right;\n",
       "    }\n",
       "\n",
       "    .dataframe thead th {\n",
       "        text-align: left;\n",
       "    }\n",
       "\n",
       "    .dataframe tbody tr th {\n",
       "        vertical-align: top;\n",
       "    }\n",
       "</style>\n",
       "<table border=\"1\" class=\"dataframe\">\n",
       "  <thead>\n",
       "    <tr style=\"text-align: right;\">\n",
       "      <th></th>\n",
       "      <th>companyId</th>\n",
       "      <th>jobType</th>\n",
       "      <th>degree</th>\n",
       "      <th>major</th>\n",
       "      <th>industry</th>\n",
       "      <th>yearsExperience</th>\n",
       "      <th>milesFromMetropolis</th>\n",
       "    </tr>\n",
       "  </thead>\n",
       "  <tbody>\n",
       "    <tr>\n",
       "      <th>0</th>\n",
       "      <td>31</td>\n",
       "      <td>1</td>\n",
       "      <td>2</td>\n",
       "      <td>6</td>\n",
       "      <td>3</td>\n",
       "      <td>10</td>\n",
       "      <td>83</td>\n",
       "    </tr>\n",
       "    <tr>\n",
       "      <th>1</th>\n",
       "      <td>48</td>\n",
       "      <td>6</td>\n",
       "      <td>1</td>\n",
       "      <td>7</td>\n",
       "      <td>3</td>\n",
       "      <td>10</td>\n",
       "      <td>38</td>\n",
       "    </tr>\n",
       "    <tr>\n",
       "      <th>2</th>\n",
       "      <td>32</td>\n",
       "      <td>4</td>\n",
       "      <td>1</td>\n",
       "      <td>2</td>\n",
       "      <td>0</td>\n",
       "      <td>8</td>\n",
       "      <td>17</td>\n",
       "    </tr>\n",
       "    <tr>\n",
       "      <th>3</th>\n",
       "      <td>60</td>\n",
       "      <td>6</td>\n",
       "      <td>0</td>\n",
       "      <td>7</td>\n",
       "      <td>2</td>\n",
       "      <td>8</td>\n",
       "      <td>16</td>\n",
       "    </tr>\n",
       "    <tr>\n",
       "      <th>4</th>\n",
       "      <td>7</td>\n",
       "      <td>4</td>\n",
       "      <td>1</td>\n",
       "      <td>3</td>\n",
       "      <td>2</td>\n",
       "      <td>2</td>\n",
       "      <td>31</td>\n",
       "    </tr>\n",
       "  </tbody>\n",
       "</table>\n",
       "</div>"
      ],
      "text/plain": [
       "   companyId  jobType  degree  major  industry  yearsExperience  \\\n",
       "0         31        1       2      6         3               10   \n",
       "1         48        6       1      7         3               10   \n",
       "2         32        4       1      2         0                8   \n",
       "3         60        6       0      7         2                8   \n",
       "4          7        4       1      3         2                2   \n",
       "\n",
       "   milesFromMetropolis  \n",
       "0                   83  \n",
       "1                   38  \n",
       "2                   17  \n",
       "3                   16  \n",
       "4                   31  "
      ]
     },
     "execution_count": 138,
     "metadata": {},
     "output_type": "execute_result"
    }
   ],
   "source": [
    "X_train_std.head()\n",
    "features.head()"
   ]
  },
  {
   "cell_type": "markdown",
   "metadata": {
    "collapsed": true
   },
   "source": [
    "# Predicting the Salary on the test Datasets"
   ]
  },
  {
   "cell_type": "code",
   "execution_count": 9,
   "metadata": {
    "collapsed": true
   },
   "outputs": [],
   "source": [
    "# We will use the GradientBoosting Regressor\n",
    "\n",
    "#loading the categoricals pickle transforms \n",
    "from sklearn.externals import joblib\n",
    "ld_jty = joblib.load('le_jty.pkl')\n",
    "ld_deg = joblib.load('le_deg.pkl')\n",
    "ld_mjr = joblib.load('le_mjr.pkl')\n",
    "ld_idr = joblib.load('le_idr.pkl')\n",
    "\n",
    "\n",
    "import pandas as pd\n",
    "#loading the data\n",
    "data_test_ftr = pd.read_csv(\"test_features_2013-03-07.csv\")\n",
    "\n",
    "\n",
    "#transforming the categorical to numerical values\n",
    "\n",
    "data_test_ftr['jobType'] = ld_jty.transform(data_test_ftr['jobType'])\n",
    "data_test_ftr['degree'] = ld_deg.transform(data_test_ftr['degree'])\n",
    "data_test_ftr['major'] = ld_mjr.transform(data_test_ftr['major'])\n",
    "data_test_ftr['industry'] = ld_idr.transform(data_test_ftr['industry'])\n"
   ]
  },
  {
   "cell_type": "code",
   "execution_count": 10,
   "metadata": {},
   "outputs": [
    {
     "data": {
      "text/html": [
       "<div>\n",
       "<style>\n",
       "    .dataframe thead tr:only-child th {\n",
       "        text-align: right;\n",
       "    }\n",
       "\n",
       "    .dataframe thead th {\n",
       "        text-align: left;\n",
       "    }\n",
       "\n",
       "    .dataframe tbody tr th {\n",
       "        vertical-align: top;\n",
       "    }\n",
       "</style>\n",
       "<table border=\"1\" class=\"dataframe\">\n",
       "  <thead>\n",
       "    <tr style=\"text-align: right;\">\n",
       "      <th></th>\n",
       "      <th>jobId</th>\n",
       "      <th>companyId</th>\n",
       "      <th>jobType</th>\n",
       "      <th>degree</th>\n",
       "      <th>major</th>\n",
       "      <th>industry</th>\n",
       "      <th>yearsExperience</th>\n",
       "      <th>milesFromMetropolis</th>\n",
       "    </tr>\n",
       "  </thead>\n",
       "  <tbody>\n",
       "    <tr>\n",
       "      <th>0</th>\n",
       "      <td>JOB1362685407687</td>\n",
       "      <td>COMP33</td>\n",
       "      <td>5</td>\n",
       "      <td>2</td>\n",
       "      <td>7</td>\n",
       "      <td>3</td>\n",
       "      <td>22</td>\n",
       "      <td>73</td>\n",
       "    </tr>\n",
       "    <tr>\n",
       "      <th>1</th>\n",
       "      <td>JOB1362685407688</td>\n",
       "      <td>COMP13</td>\n",
       "      <td>4</td>\n",
       "      <td>4</td>\n",
       "      <td>7</td>\n",
       "      <td>0</td>\n",
       "      <td>20</td>\n",
       "      <td>47</td>\n",
       "    </tr>\n",
       "    <tr>\n",
       "      <th>2</th>\n",
       "      <td>JOB1362685407689</td>\n",
       "      <td>COMP10</td>\n",
       "      <td>2</td>\n",
       "      <td>3</td>\n",
       "      <td>0</td>\n",
       "      <td>3</td>\n",
       "      <td>17</td>\n",
       "      <td>9</td>\n",
       "    </tr>\n",
       "    <tr>\n",
       "      <th>3</th>\n",
       "      <td>JOB1362685407690</td>\n",
       "      <td>COMP21</td>\n",
       "      <td>5</td>\n",
       "      <td>2</td>\n",
       "      <td>7</td>\n",
       "      <td>4</td>\n",
       "      <td>14</td>\n",
       "      <td>96</td>\n",
       "    </tr>\n",
       "    <tr>\n",
       "      <th>4</th>\n",
       "      <td>JOB1362685407691</td>\n",
       "      <td>COMP36</td>\n",
       "      <td>4</td>\n",
       "      <td>1</td>\n",
       "      <td>0</td>\n",
       "      <td>4</td>\n",
       "      <td>10</td>\n",
       "      <td>44</td>\n",
       "    </tr>\n",
       "  </tbody>\n",
       "</table>\n",
       "</div>"
      ],
      "text/plain": [
       "              jobId companyId  jobType  degree  major  industry  \\\n",
       "0  JOB1362685407687    COMP33        5       2      7         3   \n",
       "1  JOB1362685407688    COMP13        4       4      7         0   \n",
       "2  JOB1362685407689    COMP10        2       3      0         3   \n",
       "3  JOB1362685407690    COMP21        5       2      7         4   \n",
       "4  JOB1362685407691    COMP36        4       1      0         4   \n",
       "\n",
       "   yearsExperience  milesFromMetropolis  \n",
       "0               22                   73  \n",
       "1               20                   47  \n",
       "2               17                    9  \n",
       "3               14                   96  \n",
       "4               10                   44  "
      ]
     },
     "execution_count": 10,
     "metadata": {},
     "output_type": "execute_result"
    }
   ],
   "source": [
    "#invetigate the data\n",
    "data_test_ftr.head()"
   ]
  },
  {
   "cell_type": "code",
   "execution_count": 12,
   "metadata": {
    "collapsed": true
   },
   "outputs": [],
   "source": [
    "#Load the Gradient Boosting Regressor, I chose \n",
    "from sklearn.externals import joblib\n",
    "ld_gb_rgr = joblib.load('gb_regressor_7635_train_7645_test.pkl')\n",
    "data_test_ftr['salary'] = ld_gb_rgr.predict(data_test_ftr[['jobType','degree','major','industry','yearsExperience','milesFromMetropolis']])"
   ]
  },
  {
   "cell_type": "code",
   "execution_count": 15,
   "metadata": {},
   "outputs": [
    {
     "data": {
      "text/html": [
       "<div>\n",
       "<style>\n",
       "    .dataframe thead tr:only-child th {\n",
       "        text-align: right;\n",
       "    }\n",
       "\n",
       "    .dataframe thead th {\n",
       "        text-align: left;\n",
       "    }\n",
       "\n",
       "    .dataframe tbody tr th {\n",
       "        vertical-align: top;\n",
       "    }\n",
       "</style>\n",
       "<table border=\"1\" class=\"dataframe\">\n",
       "  <thead>\n",
       "    <tr style=\"text-align: right;\">\n",
       "      <th></th>\n",
       "      <th>jobId</th>\n",
       "      <th>salary</th>\n",
       "    </tr>\n",
       "  </thead>\n",
       "  <tbody>\n",
       "    <tr>\n",
       "      <th>0</th>\n",
       "      <td>JOB1362685407687</td>\n",
       "      <td>110.990294</td>\n",
       "    </tr>\n",
       "    <tr>\n",
       "      <th>1</th>\n",
       "      <td>JOB1362685407688</td>\n",
       "      <td>92.871936</td>\n",
       "    </tr>\n",
       "    <tr>\n",
       "      <th>2</th>\n",
       "      <td>JOB1362685407689</td>\n",
       "      <td>182.130105</td>\n",
       "    </tr>\n",
       "    <tr>\n",
       "      <th>3</th>\n",
       "      <td>JOB1362685407690</td>\n",
       "      <td>104.222946</td>\n",
       "    </tr>\n",
       "    <tr>\n",
       "      <th>4</th>\n",
       "      <td>JOB1362685407691</td>\n",
       "      <td>114.865916</td>\n",
       "    </tr>\n",
       "  </tbody>\n",
       "</table>\n",
       "</div>"
      ],
      "text/plain": [
       "              jobId      salary\n",
       "0  JOB1362685407687  110.990294\n",
       "1  JOB1362685407688   92.871936\n",
       "2  JOB1362685407689  182.130105\n",
       "3  JOB1362685407690  104.222946\n",
       "4  JOB1362685407691  114.865916"
      ]
     },
     "execution_count": 15,
     "metadata": {},
     "output_type": "execute_result"
    }
   ],
   "source": [
    "data_test_ftr[['jobId','salary']].head()"
   ]
  },
  {
   "cell_type": "code",
   "execution_count": 18,
   "metadata": {
    "collapsed": true
   },
   "outputs": [],
   "source": [
    "#Creating the test_salaries.csv file\n",
    "data_test_ftr['salary'] = data_test_ftr['salary'].apply(lambda x: round(x,2))\n",
    "data_test_ftr[['jobId','salary']].to_csv('test_salaries.csv')\n"
   ]
  }
 ],
 "metadata": {
  "kernelspec": {
   "display_name": "Python [conda root]",
   "language": "python",
   "name": "conda-root-py"
  },
  "language_info": {
   "codemirror_mode": {
    "name": "ipython",
    "version": 2
   },
   "file_extension": ".py",
   "mimetype": "text/x-python",
   "name": "python",
   "nbconvert_exporter": "python",
   "pygments_lexer": "ipython2",
   "version": "2.7.13"
  }
 },
 "nbformat": 4,
 "nbformat_minor": 2
}
